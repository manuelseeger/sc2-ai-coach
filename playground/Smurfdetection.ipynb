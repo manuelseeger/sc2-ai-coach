{
 "cells": [
  {
   "cell_type": "code",
   "execution_count": 219,
   "metadata": {},
   "outputs": [],
   "source": [
    "import sys\n",
    "import cv2\n",
    "from os.path import isfile, join\n",
    "import numpy as np\n",
    "from typing import Dict, List, Tuple, Callable\n",
    "from matplotlib import pyplot as plt\n",
    "from sewar.full_ref import ssim as ssim_sewar\n",
    "from skimage.metrics import structural_similarity as ssim_skimage\n",
    "from external.fast_ssim.ssim import SSIM as ssim_external"
   ]
  },
  {
   "cell_type": "code",
   "execution_count": 209,
   "metadata": {},
   "outputs": [],
   "source": [
    "screen_dir = '../obs/screenshots/'\n",
    "filename = 'radhuset station le - BARCODE vs zatic 2024-03-23 15-15-41.png'\n",
    "\n",
    "filepath = join(screen_dir, filename)\n",
    "\n",
    "cvflags = cv2.IMREAD_GRAYSCALE\n",
    "cvflags = None"
   ]
  },
  {
   "cell_type": "code",
   "execution_count": 210,
   "metadata": {},
   "outputs": [],
   "source": [
    "def show(roi):\n",
    "    cv2.imshow('roi', roi)\n",
    "    cv2.waitKey(0)\n",
    "    cv2.destroyAllWindows()"
   ]
  },
  {
   "cell_type": "code",
   "execution_count": 211,
   "metadata": {},
   "outputs": [],
   "source": [
    "# player left\n",
    "\n",
    "def get_left_roi(image):\n",
    "    x, y, w, h = 221, 560, 105, 105\n",
    "    return image[y : y + h, x : x + w]\n",
    "\n"
   ]
  },
  {
   "cell_type": "code",
   "execution_count": 212,
   "metadata": {},
   "outputs": [],
   "source": [
    "# player right\n",
    "\n",
    "\n",
    "def get_right_roi(image):\n",
    "    x, y, w, h = 2235, 560, 105, 105\n",
    "    return image[y : y + h, x : x + w]\n"
   ]
  },
  {
   "cell_type": "code",
   "execution_count": 213,
   "metadata": {},
   "outputs": [],
   "source": [
    "def mse(imageA, imageB):\n",
    "\t# the 'Mean Squared Error' between the two images is the\n",
    "\t# sum of the squared difference between the two images;\n",
    "\t# NOTE: the two images must have the same dimension\n",
    "\terr = np.sum((imageA.astype(\"float\") - imageB.astype(\"float\")) ** 2)\n",
    "\terr /= float(imageA.shape[0] * imageA.shape[1])\n",
    "\n",
    "\t# return the MSE, the lower the error, the more \"similar\"\n",
    "\t# the two images are\n",
    "\treturn err\n",
    "\n",
    "def ssim(imageA, imageB):\n",
    "\treturn ssim_sewar(imageA, imageB)[0]"
   ]
  },
  {
   "cell_type": "code",
   "execution_count": 229,
   "metadata": {},
   "outputs": [],
   "source": [
    "reference = cv2.imread(join(screen_dir, filename), flags=cvflags)\n",
    "left = get_left_roi(reference)\n",
    "right = get_right_roi(reference)\n",
    "#show(left)\n",
    "zatic = left"
   ]
  },
  {
   "cell_type": "code",
   "execution_count": 230,
   "metadata": {},
   "outputs": [
    {
     "data": {
      "text/plain": [
       "4490.519365079365"
      ]
     },
     "metadata": {},
     "output_type": "display_data"
    },
    {
     "data": {
      "text/plain": [
       "0.4010339469878972"
      ]
     },
     "metadata": {},
     "output_type": "display_data"
    },
    {
     "data": {
      "text/plain": [
       "(0.4010339469878972, 0.4271641741763302)"
      ]
     },
     "metadata": {},
     "output_type": "display_data"
    },
    {
     "data": {
      "text/plain": [
       "0.41799232363700867"
      ]
     },
     "metadata": {},
     "output_type": "display_data"
    },
    {
     "data": {
      "text/plain": [
       "0.9997924566268921"
      ]
     },
     "metadata": {},
     "output_type": "display_data"
    }
   ],
   "source": [
    "kats = {\n",
    "    \"kat1\" : 'solaris le - Zatic vs BARCODE 2024-01-14 20-32-50.png',\n",
    "    \"kat2\" : 'site delta le - BARCODE vs zatic 2024-03-03 16-46-46.png',\n",
    "    \"kat_master\" : 'radhuset station le - BARCODE vs zatic 2024-01-09 17-03-09.png',\n",
    "    \"kat_unranked\" : 'oceanborn le - Zatic vs BARCODE 2024-03-23 13-54-11.png'\n",
    "}\n",
    "\n",
    "kat1_barcode = get_right_roi(cv2.imread(join(screen_dir, kats[\"kat1\"]), flags=cvflags) )\n",
    "zatic_barcode = get_left_roi(cv2.imread(join(screen_dir, kats[\"kat1\"]), flags=cvflags) )\n",
    "\n",
    "display(mse(zatic, kat1_barcode))\n",
    "display(ssim(zatic, kat1_barcode))\n",
    "#display(ssim_skimage(zatic, kat1_barcode))\n",
    "display(ssim_sewar(zatic, kat1_barcode))\n",
    "display(ssim_external(zatic, kat1_barcode))\n",
    "display(ssim_external(zatic, zatic_barcode))\n",
    "\n",
    "imgs: Dict[str, Tuple] = {}\n",
    "\n",
    "for kat, filename in kats.items() :\n",
    "    img = cv2.imread(join(screen_dir, filename), flags=cvflags)\n",
    "    imgs[kat] = (get_left_roi(img), get_right_roi(img))\n",
    "\n"
   ]
  },
  {
   "cell_type": "code",
   "execution_count": 241,
   "metadata": {},
   "outputs": [
    {
     "data": {
      "text/plain": [
       "'kat1'"
      ]
     },
     "metadata": {},
     "output_type": "display_data"
    },
    {
     "data": {
      "text/plain": [
       "'kat2'"
      ]
     },
     "metadata": {},
     "output_type": "display_data"
    },
    {
     "data": {
      "text/plain": [
       "0.9979430437088013"
      ]
     },
     "metadata": {},
     "output_type": "display_data"
    },
    {
     "data": {
      "text/plain": [
       "'kat1'"
      ]
     },
     "metadata": {},
     "output_type": "display_data"
    },
    {
     "data": {
      "text/plain": [
       "'kat_master'"
      ]
     },
     "metadata": {},
     "output_type": "display_data"
    },
    {
     "data": {
      "text/plain": [
       "0.7304013967514038"
      ]
     },
     "metadata": {},
     "output_type": "display_data"
    },
    {
     "data": {
      "text/plain": [
       "'kat1'"
      ]
     },
     "metadata": {},
     "output_type": "display_data"
    },
    {
     "data": {
      "text/plain": [
       "'kat_unranked'"
      ]
     },
     "metadata": {},
     "output_type": "display_data"
    },
    {
     "data": {
      "text/plain": [
       "0.8554396033287048"
      ]
     },
     "metadata": {},
     "output_type": "display_data"
    },
    {
     "data": {
      "text/plain": [
       "'kat2'"
      ]
     },
     "metadata": {},
     "output_type": "display_data"
    },
    {
     "data": {
      "text/plain": [
       "'kat1'"
      ]
     },
     "metadata": {},
     "output_type": "display_data"
    },
    {
     "data": {
      "text/plain": [
       "0.9979430437088013"
      ]
     },
     "metadata": {},
     "output_type": "display_data"
    },
    {
     "data": {
      "text/plain": [
       "'kat2'"
      ]
     },
     "metadata": {},
     "output_type": "display_data"
    },
    {
     "data": {
      "text/plain": [
       "'kat_master'"
      ]
     },
     "metadata": {},
     "output_type": "display_data"
    },
    {
     "data": {
      "text/plain": [
       "0.7320858836174011"
      ]
     },
     "metadata": {},
     "output_type": "display_data"
    },
    {
     "data": {
      "text/plain": [
       "'kat2'"
      ]
     },
     "metadata": {},
     "output_type": "display_data"
    },
    {
     "data": {
      "text/plain": [
       "'kat_unranked'"
      ]
     },
     "metadata": {},
     "output_type": "display_data"
    },
    {
     "data": {
      "text/plain": [
       "0.8557567596435547"
      ]
     },
     "metadata": {},
     "output_type": "display_data"
    },
    {
     "data": {
      "text/plain": [
       "'kat_master'"
      ]
     },
     "metadata": {},
     "output_type": "display_data"
    },
    {
     "data": {
      "text/plain": [
       "'kat1'"
      ]
     },
     "metadata": {},
     "output_type": "display_data"
    },
    {
     "data": {
      "text/plain": [
       "0.7304013967514038"
      ]
     },
     "metadata": {},
     "output_type": "display_data"
    },
    {
     "data": {
      "text/plain": [
       "'kat_master'"
      ]
     },
     "metadata": {},
     "output_type": "display_data"
    },
    {
     "data": {
      "text/plain": [
       "'kat2'"
      ]
     },
     "metadata": {},
     "output_type": "display_data"
    },
    {
     "data": {
      "text/plain": [
       "0.7320858836174011"
      ]
     },
     "metadata": {},
     "output_type": "display_data"
    },
    {
     "data": {
      "text/plain": [
       "'kat_master'"
      ]
     },
     "metadata": {},
     "output_type": "display_data"
    },
    {
     "data": {
      "text/plain": [
       "'kat_unranked'"
      ]
     },
     "metadata": {},
     "output_type": "display_data"
    },
    {
     "data": {
      "text/plain": [
       "0.7184597253799438"
      ]
     },
     "metadata": {},
     "output_type": "display_data"
    },
    {
     "data": {
      "text/plain": [
       "'kat_unranked'"
      ]
     },
     "metadata": {},
     "output_type": "display_data"
    },
    {
     "data": {
      "text/plain": [
       "'kat1'"
      ]
     },
     "metadata": {},
     "output_type": "display_data"
    },
    {
     "data": {
      "text/plain": [
       "0.8554396033287048"
      ]
     },
     "metadata": {},
     "output_type": "display_data"
    },
    {
     "data": {
      "text/plain": [
       "'kat_unranked'"
      ]
     },
     "metadata": {},
     "output_type": "display_data"
    },
    {
     "data": {
      "text/plain": [
       "'kat2'"
      ]
     },
     "metadata": {},
     "output_type": "display_data"
    },
    {
     "data": {
      "text/plain": [
       "0.8557567596435547"
      ]
     },
     "metadata": {},
     "output_type": "display_data"
    },
    {
     "data": {
      "text/plain": [
       "'kat_unranked'"
      ]
     },
     "metadata": {},
     "output_type": "display_data"
    },
    {
     "data": {
      "text/plain": [
       "'kat_master'"
      ]
     },
     "metadata": {},
     "output_type": "display_data"
    },
    {
     "data": {
      "text/plain": [
       "0.7184597253799438"
      ]
     },
     "metadata": {},
     "output_type": "display_data"
    }
   ],
   "source": [
    "# compare left and right regions of screenshots\n",
    "\n",
    "def show_comparison(kat1, img1, kat2, img2, metric: Callable=ssim_external, threshold=0.95, noshow=True):\n",
    "    \n",
    "    \n",
    "    if metric(img1, zatic) > threshold or metric(img2, zatic) > threshold:\n",
    "        return\n",
    "    error = metric(img1, img2)\n",
    "    if int(error) == 1:\n",
    "        return\n",
    "        pass\n",
    "    \n",
    "    if noshow:\n",
    "        display(kat1, kat2, error)\n",
    "    else:\n",
    "        plt.imshow(cv2.cvtColor(img1, cv2.COLOR_BGR2RGB))\n",
    "        plt.title(kat1)\n",
    "        plt.show()\n",
    "        plt.imshow(cv2.cvtColor(img2, cv2.COLOR_BGR2RGB))\n",
    "        plt.title(kat2)\n",
    "        plt.show()\n",
    "        display(error)\n",
    "\n",
    "\n",
    "for kat, (left, right) in imgs.items():\n",
    "    for kat2, (left2, right2) in imgs.items():\n",
    "        show_comparison(kat, left, kat2, left2)\n",
    "        show_comparison(kat, right, kat2, right2)\n",
    "        show_comparison(kat, left, kat2, right2)\n",
    "        show_comparison(kat, right, kat2, left2)\n"
   ]
  }
 ],
 "metadata": {
  "kernelspec": {
   "display_name": "aicoach311",
   "language": "python",
   "name": "python3"
  },
  "language_info": {
   "codemirror_mode": {
    "name": "ipython",
    "version": 3
   },
   "file_extension": ".py",
   "mimetype": "text/x-python",
   "name": "python",
   "nbconvert_exporter": "python",
   "pygments_lexer": "ipython3",
   "version": "3.11.8"
  }
 },
 "nbformat": 4,
 "nbformat_minor": 2
}
